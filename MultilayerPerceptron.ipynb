{
 "cells": [
  {
   "cell_type": "code",
   "execution_count": 1,
   "metadata": {
    "collapsed": false
   },
   "outputs": [],
   "source": [
    "import csv\n",
    "import itertools\n",
    "import operator\n",
    "import numpy as np\n",
    "import nltk\n",
    "import sys\n",
    "from datetime import datetime\n",
    "import pandas as pd\n",
    "from sklearn.model_selection import train_test_split\n",
    "from sklearn.preprocessing import StandardScaler\n",
    "from sklearn.metrics import accuracy_score\n",
    "from sklearn.neural_network import MLPClassifier\n",
    "\n",
    "import matplotlib.pyplot as plt\n",
    "%matplotlib inline"
   ]
  },
  {
   "cell_type": "code",
   "execution_count": 2,
   "metadata": {
    "collapsed": false
   },
   "outputs": [
    {
     "data": {
      "text/plain": [
       "True"
      ]
     },
     "execution_count": 2,
     "metadata": {},
     "output_type": "execute_result"
    }
   ],
   "source": [
    "%%capture\n",
    "# Download NLTK model data \n",
    "nltk.download(\"book\")"
   ]
  },
  {
   "cell_type": "code",
   "execution_count": 3,
   "metadata": {
    "collapsed": false
   },
   "outputs": [
    {
     "name": "stdout",
     "output_type": "stream",
     "text": [
      "Reading CSV file...\n",
      "Parsed 2998 definitions.\n",
      "Found 5740 unique words tokens.\n",
      "Using vocabulary size 6000.\n",
      "\n",
      "Example sentence: 'a unit of angular measurement equal to one sixtieth of a degree or seconds'\n",
      "\n",
      "Example sentence after Pre-processing: '['a', 'unit', 'of', 'angular', 'measurement', 'equal', 'to', 'one', 'sixtieth', 'of', 'a', 'degree', 'or', 'seconds']'\n"
     ]
    }
   ],
   "source": [
    "vocabulary_size = 6000\n",
    "class_size = 50\n",
    "unknown_token = \"UNKNOWN_TOKEN\"\n",
    "\n",
    "# Read the data \n",
    "print \"Reading CSV file...\"\n",
    "df = pd.read_csv('training_data/60Def50Words.csv', header=None, skipinitialspace=True)\n",
    "words = list(df.iloc[:, 0])\n",
    "definitions = list(df.iloc[:,1])\n",
    "    \n",
    "print \"Parsed %d definitions.\" % (len(definitions))\n",
    "    \n",
    "# Tokenize the sentences into words\n",
    "tokenized_definitions = [nltk.word_tokenize(sent) for sent in definitions]\n",
    "\n",
    "# Count the word frequencies\n",
    "word_freq = nltk.FreqDist(itertools.chain(*(tokenized_definitions)))\n",
    "print \"Found %d unique words tokens.\" % len(word_freq.items())\n",
    "\n",
    "# Get the most common words and build index_to_word and word_to_index vectors\n",
    "vocab = word_freq.most_common(vocabulary_size-1)\n",
    "index_to_word = [x[0] for x in vocab]\n",
    "index_to_word.append(unknown_token)\n",
    "word_to_index = dict([(w,i) for i,w in enumerate(index_to_word)])\n",
    "\n",
    "# Get classes\n",
    "index_to_class = list(set(words))\n",
    "class_to_index = dict([(w,i) for i,w in enumerate(index_to_class)])\n",
    "\n",
    "print \"Using vocabulary size %d.\" % vocabulary_size\n",
    "# print \"The least frequent word in our vocabulary is '%s' and appeared %d times.\" % (vocab[-1][0], vocab[-1][1])\n",
    "\n",
    "# Replace all words not in our vocabulary with the unknown token\n",
    "for i, sent in enumerate(tokenized_definitions):\n",
    "    tokenized_definitions[i] = [w if w in word_to_index else unknown_token for w in sent]\n",
    "\n",
    "print \"\\nExample sentence: '%s'\" % definitions[0]\n",
    "print \"\\nExample sentence after Pre-processing: '%s'\" % tokenized_definitions[0]"
   ]
  },
  {
   "cell_type": "code",
   "execution_count": 4,
   "metadata": {
    "collapsed": true
   },
   "outputs": [],
   "source": [
    "# Create the raw data\n",
    "X = np.asarray([[word_to_index[w] for w in sent] for sent in tokenized_definitions])\n",
    "y = np.asarray([class_to_index[w] for w in words])"
   ]
  },
  {
   "cell_type": "code",
   "execution_count": 5,
   "metadata": {
    "collapsed": false
   },
   "outputs": [
    {
     "name": "stdout",
     "output_type": "stream",
     "text": [
      "x:\n",
      "a unit of angle equal to one sixtieth of a degree\n",
      "[0, 36, 2, 729, 195, 4, 9, 570, 2, 0, 194]\n",
      "\n",
      "y:\n",
      "minute\n",
      "17\n"
     ]
    }
   ],
   "source": [
    "# Print an training data example\n",
    "x_example, y_example = X[17], y[17]\n",
    "print \"x:\\n%s\\n%s\" % (\" \".join([index_to_word[x] for x in x_example]), x_example)\n",
    "print \"\\ny:\\n%s\\n%s\" % (index_to_class[17], y_example)"
   ]
  },
  {
   "cell_type": "code",
   "execution_count": 6,
   "metadata": {
    "collapsed": false
   },
   "outputs": [],
   "source": [
    "X_vect = np.zeros((vocabulary_size, 1))"
   ]
  },
  {
   "cell_type": "code",
   "execution_count": 7,
   "metadata": {
    "collapsed": false
   },
   "outputs": [
    {
     "data": {
      "text/plain": [
       "[0, 36, 2, 729, 195, 4, 9, 570, 2, 0, 194]"
      ]
     },
     "execution_count": 7,
     "metadata": {},
     "output_type": "execute_result"
    }
   ],
   "source": [
    "X[17]"
   ]
  },
  {
   "cell_type": "code",
   "execution_count": 8,
   "metadata": {
    "collapsed": false
   },
   "outputs": [],
   "source": [
    "index_to_vec = []\n",
    "for w in X:\n",
    "    X_vect = np.zeros((vocabulary_size, 1))\n",
    "    for e in w:\n",
    "        X_vect[e] += 1\n",
    "    index_to_vec.append(X_vect.flatten().tolist())"
   ]
  },
  {
   "cell_type": "code",
   "execution_count": 9,
   "metadata": {
    "collapsed": false
   },
   "outputs": [
    {
     "name": "stdout",
     "output_type": "stream",
     "text": [
      "2998 2998\n"
     ]
    }
   ],
   "source": [
    "print len(index_to_vec), len(y)"
   ]
  },
  {
   "cell_type": "code",
   "execution_count": 10,
   "metadata": {
    "collapsed": false
   },
   "outputs": [],
   "source": [
    "X_train, X_test, y_train, y_test = train_test_split(index_to_vec, y, test_size=0.33, random_state=5)"
   ]
  },
  {
   "cell_type": "code",
   "execution_count": 11,
   "metadata": {
    "collapsed": false
   },
   "outputs": [
    {
     "name": "stdout",
     "output_type": "stream",
     "text": [
      "#Training data points: 2008\n",
      "#Testing data points: 990\n",
      "Class labels: {'right': 0, 'force': 1, 'family': 2, 'point': 3, 'job': 45, 'house': 4, 'number': 5, 'president': 33, 'home': 7, 'girl': 8, 'air': 46, 'law': 34, 'end': 11, 'power': 25, 'service': 13, 'night': 48, 'question': 10, 'state': 15, 'book': 16, 'change': 36, 'lot': 18, 'party': 20, 'kid': 37, 'issue': 22, 'father': 14, 'head': 24, 'business': 12, 'eye': 26, 'company': 27, 'mother': 28, 'back': 23, 'reason': 30, 'part': 31, 'group': 6, 'hand': 29, 'day': 35, 'minute': 17, 'man': 21, 'case': 38, 'school': 39, 'word': 40, 'name': 41, 'level': 42, 'car': 43, 'study': 44, 'game': 32, 'face': 9, 'thing': 47, 'time': 19, 'side': 49}\n"
     ]
    }
   ],
   "source": [
    "print('#Training data points: {}'.format(len(X_train)))\n",
    "print('#Testing data points: {}'.format(len(X_test)))\n",
    "print('Class labels: {}'.format(class_to_index))"
   ]
  },
  {
   "cell_type": "code",
   "execution_count": 12,
   "metadata": {
    "collapsed": true
   },
   "outputs": [],
   "source": [
    "sc = StandardScaler()\n",
    "sc.fit(X_train)\n",
    "X_train_std = sc.transform(X_train)\n",
    "X_test_std = sc.transform(X_test)"
   ]
  },
  {
   "cell_type": "code",
   "execution_count": 13,
   "metadata": {
    "collapsed": false
   },
   "outputs": [
    {
     "data": {
      "text/plain": [
       "MLPClassifier(activation='tanh', alpha=1e-05, batch_size='auto', beta_1=0.9,\n",
       "       beta_2=0.999, early_stopping=False, epsilon=1e-08,\n",
       "       hidden_layer_sizes=(30,), learning_rate='constant',\n",
       "       learning_rate_init=0.001, max_iter=1000, momentum=0.9,\n",
       "       nesterovs_momentum=True, power_t=0.5, random_state=1, shuffle=True,\n",
       "       solver='lbfgs', tol=0.0001, validation_fraction=0.1, verbose=False,\n",
       "       warm_start=False)"
      ]
     },
     "execution_count": 13,
     "metadata": {},
     "output_type": "execute_result"
    }
   ],
   "source": [
    "nn = MLPClassifier(activation='tanh', solver='lbfgs', alpha=1e-5, hidden_layer_sizes=(30,), max_iter=1000, random_state=1)\n",
    "nn.fit(X_train_std, y_train)"
   ]
  },
  {
   "cell_type": "code",
   "execution_count": 14,
   "metadata": {
    "collapsed": false
   },
   "outputs": [
    {
     "name": "stdout",
     "output_type": "stream",
     "text": [
      "Misclassified samples: 471\n",
      "Accuracy: 0.52\n"
     ]
    }
   ],
   "source": [
    "y_p = nn.predict(X_test_std)\n",
    "print('Misclassified samples: %d' % (y_test != y_p).sum())\n",
    "print('Accuracy: %.2f' % accuracy_score(y_test, y_p))"
   ]
  },
  {
   "cell_type": "code",
   "execution_count": 15,
   "metadata": {
    "collapsed": true
   },
   "outputs": [],
   "source": [
    "def print_top_pred(definition, no_results):\n",
    "    \"\"\"\n",
    "    Function to print the top n results with their corresponding probabilities.\n",
    "    \"\"\"\n",
    "    \n",
    "    tokenized_def = [nltk.word_tokenize(definition)]\n",
    "    for i, sent in enumerate(tokenized_def):\n",
    "        tokenized_def[i] = [w if w in word_to_index else unknown_token for w in sent]\n",
    "\n",
    "    x = np.asarray([[word_to_index[w] for w in sent] for sent in tokenized_def])\n",
    "\n",
    "    vec = np.zeros((vocabulary_size, 1))\n",
    "    for e in x:\n",
    "        vec[e] += 1    \n",
    "    vec = vec.flatten().tolist()\n",
    "    vec = sc.transform([vec])\n",
    "\n",
    "    pred = nn.predict_proba(vec)\n",
    "\n",
    "    preds = np.argsort(pred[0])[-no_results:][::-1]\n",
    "    probs = np.sort(pred[0])[-no_results:][::-1]\n",
    "\n",
    "    for x, y in zip(preds, probs):\n",
    "        x = index_to_class[x]\n",
    "        print \"%s\\t->\\t%f\" %(x, y)"
   ]
  },
  {
   "cell_type": "code",
   "execution_count": 16,
   "metadata": {
    "collapsed": true
   },
   "outputs": [],
   "source": [
    "def get_top_pred(y_pred_prob, no_results):\n",
    "    \"\"\"\n",
    "    Function to get only the top n results from each prediction. \n",
    "    \"\"\"\n",
    "    \n",
    "    res = []\n",
    "    for elem in y_pred_prob:\n",
    "        res.append(np.argsort(elem)[-no_results:][::-1])\n",
    "    return res"
   ]
  },
  {
   "cell_type": "code",
   "execution_count": 17,
   "metadata": {
    "collapsed": true
   },
   "outputs": [],
   "source": [
    "def get_miss_match(y_test, y_pred, no_results):\n",
    "    \"\"\"\n",
    "    Function to determine if a correct label is among the top n corresponding predictions, that is\n",
    "    to determine misses and matches. \n",
    "    \"\"\"\n",
    "    \n",
    "    match = 0\n",
    "    miss = 0\n",
    "    y_pred_top = get_top_pred(y_pred, no_results)\n",
    "    for a, b in zip(y_test, y_pred_top):\n",
    "        if a in b: \n",
    "            match += 1\n",
    "        else:\n",
    "            miss += 1\n",
    "    return miss, match"
   ]
  },
  {
   "cell_type": "code",
   "execution_count": 18,
   "metadata": {
    "collapsed": true
   },
   "outputs": [],
   "source": [
    "def get_accuracy_score(miss, match):\n",
    "    \"\"\"\n",
    "    Function to compute the accuracy score of a model based on its misses and matches. \n",
    "    \"\"\"\n",
    "    \n",
    "    tot = miss + match\n",
    "    return match / float(tot)"
   ]
  },
  {
   "cell_type": "code",
   "execution_count": 19,
   "metadata": {
    "collapsed": false
   },
   "outputs": [
    {
     "name": "stdout",
     "output_type": "stream",
     "text": [
      "Misclassified samples: 286\n",
      "Accuracy: 0.71\n"
     ]
    }
   ],
   "source": [
    "y_pred = nn.predict_proba(X_test_std)\n",
    "miss, match = get_miss_match(y_test, y_pred, 5)\n",
    "print('Misclassified samples: %d' % miss)\n",
    "print('Accuracy: %.2f' % get_accuracy_score(miss, match))"
   ]
  },
  {
   "cell_type": "code",
   "execution_count": 20,
   "metadata": {
    "collapsed": false
   },
   "outputs": [
    {
     "name": "stdout",
     "output_type": "stream",
     "text": [
      "girl\t->\t0.984963\n",
      "man\t->\t0.005113\n",
      "day\t->\t0.003881\n",
      "right\t->\t0.002637\n",
      "state\t->\t0.001229\n"
     ]
    }
   ],
   "source": [
    "print_top_pred(\"little female human\", 5)"
   ]
  },
  {
   "cell_type": "code",
   "execution_count": null,
   "metadata": {
    "collapsed": true
   },
   "outputs": [],
   "source": []
  }
 ],
 "metadata": {
  "kernelspec": {
   "display_name": "Python 2",
   "language": "python",
   "name": "python2"
  },
  "language_info": {
   "codemirror_mode": {
    "name": "ipython",
    "version": 2
   },
   "file_extension": ".py",
   "mimetype": "text/x-python",
   "name": "python",
   "nbconvert_exporter": "python",
   "pygments_lexer": "ipython2",
   "version": "2.7.13"
  }
 },
 "nbformat": 4,
 "nbformat_minor": 2
}
